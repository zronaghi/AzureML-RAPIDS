{
 "cells": [
  {
   "cell_type": "markdown",
   "metadata": {},
   "source": [
    "# Train Random Forest with RAPIDS"
   ]
  },
  {
   "cell_type": "code",
   "execution_count": null,
   "metadata": {},
   "outputs": [],
   "source": [
    "import os\n",
    "import time\n",
    "\n",
    "import numpy as np\n",
    "import cudf\n",
    "import cuml\n",
    "from cuml import RandomForestClassifier as cuRF\n",
    "from sklearn.model_selection import train_test_split\n",
    "from cuml.metrics.accuracy import accuracy_score\n",
    "import airline_data_local"
   ]
  },
  {
   "cell_type": "code",
   "execution_count": null,
   "metadata": {},
   "outputs": [],
   "source": [
    "print('cuDF version:', cudf.__version__)\n",
    "print('cuML version:', cuml.__version__)"
   ]
  },
  {
   "cell_type": "code",
   "execution_count": null,
   "metadata": {},
   "outputs": [],
   "source": [
    "data_dir = '/datasets/data_airline'"
   ]
  },
  {
   "cell_type": "code",
   "execution_count": null,
   "metadata": {},
   "outputs": [],
   "source": [
    "# from airline_data import prepare_airline_data\n",
    "# prepare_airline_data(data_dir, 20000000)"
   ]
  },
  {
   "cell_type": "code",
   "execution_count": null,
   "metadata": {},
   "outputs": [],
   "source": [
    "%%time\n",
    "df = cudf.read_parquet(os.path.join(data_dir, 'airline_20m.parquet'))"
   ]
  },
  {
   "cell_type": "markdown",
   "metadata": {},
   "source": [
    "## Train model"
   ]
  },
  {
   "cell_type": "code",
   "execution_count": null,
   "metadata": {},
   "outputs": [],
   "source": [
    "# Encode categoricals as numeric\n",
    "for col in df.select_dtypes(['object']).columns:\n",
    "    df[col] = df[col].astype('category').cat.codes.astype(np.float32)\n",
    "        \n",
    "# cast all remaining columns to float32\n",
    "for col in df.columns:\n",
    "    if col in df.select_dtypes(['object']).columns: pass\n",
    "    else:\n",
    "        df[col] = df[col].astype(np.float32)\n",
    "            \n",
    "df['ArrDelayBinary'] = 1 * (df['ArrDelay'] > 0)\n",
    "    \n",
    "X = df[df.columns.difference(['ArrDelay', 'ArrDelayBinary'])].as_matrix()\n",
    "y = df['ArrDelayBinary'].astype(np.int32).to_array()\n",
    "del df"
   ]
  },
  {
   "cell_type": "code",
   "execution_count": null,
   "metadata": {},
   "outputs": [],
   "source": [
    "X_train, X_test, y_train, y_test = train_test_split(X, y, random_state=77, test_size=0.2)"
   ]
  },
  {
   "cell_type": "code",
   "execution_count": null,
   "metadata": {},
   "outputs": [],
   "source": [
    "%%time\n",
    "cu_rf = cuRF(n_estimators=100, max_depth=20, n_bins=8, max_features='auto')\n",
    "cu_rf.fit(X_train, y_train)"
   ]
  },
  {
   "cell_type": "code",
   "execution_count": null,
   "metadata": {},
   "outputs": [],
   "source": [
    "cuml_pred = cu_rf.predict(X_test)"
   ]
  },
  {
   "cell_type": "code",
   "execution_count": null,
   "metadata": {},
   "outputs": [],
   "source": [
    "cuml_accuracy = accuracy_score(cuml_pred, y_test) *100\n",
    "print('Accuracy: cumlRF {:.2f}%'.format(cuml_accuracy))"
   ]
  }
 ],
 "metadata": {
  "kernelspec": {
   "display_name": "Python 3",
   "language": "python",
   "name": "python3"
  },
  "language_info": {
   "codemirror_mode": {
    "name": "ipython",
    "version": 3
   },
   "file_extension": ".py",
   "mimetype": "text/x-python",
   "name": "python",
   "nbconvert_exporter": "python",
   "pygments_lexer": "ipython3",
   "version": "3.7.6"
  }
 },
 "nbformat": 4,
 "nbformat_minor": 4
}
